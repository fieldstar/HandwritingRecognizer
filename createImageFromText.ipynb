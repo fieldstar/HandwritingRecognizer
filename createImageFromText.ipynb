{
 "cells": [
  {
   "cell_type": "code",
   "execution_count": 17,
   "id": "e1148262-3ff7-44e2-80b7-2a2083e5b193",
   "metadata": {
    "tags": []
   },
   "outputs": [],
   "source": [
    "from PIL import Image, ImageFont, ImageDraw\n",
    " \n",
    " \n",
    "def CreateImg(text):\n",
    "    fontSize =50\n",
    "    \n",
    "    #画布颜色\n",
    "    im = Image.new(\"RGB\", (len(text)*50,120), (255, 255, 255))\n",
    "    dr = ImageDraw.Draw(im)\n",
    "    #字体样式\n",
    "    #fontPath =r\"C:\\Users\\Administrator\\AppData\\Local\\Microsoft\\Windows\\Fonts\\国祥手写体v2.0.ttf\"\n",
    "    \n",
    "    #fontPath =r\"C:\\Users\\Administrator\\AppData\\Local\\Microsoft\\Windows\\Fonts\\司马彦简行修正版.ttf\"\n",
    "    fontPath =r\"C:\\Users\\Administrator\\AppData\\Local\\Microsoft\\Windows\\Fonts\\全新硬笔行书简.ttf\"\n",
    "    font = ImageFont.truetype(fontPath, fontSize)\n",
    "    #文字颜色\n",
    "    dr.text((0, 0), text[:int(len(text)/2)], font=font, fill=\"#000000\",encoding='utf-8')\n",
    "    dr.text((0,60), text[int(len(text)/2):], font=font, fill=\"#000000\",encoding='utf-8')\n",
    "    im.save('output.gif')\n",
    "    im.show()\n",
    "\n",
    "CreateImg(u'曾小青，男，出生于1975年1月 简介 博士，副教授，美国北密歇根大学访问学者；湖南省青年骨干教师，湖南省注册会计师协会信息化专委会副主任委员。')"
   ]
  },
  {
   "cell_type": "code",
   "execution_count": null,
   "id": "5131f895-2414-4f5a-8306-2e40b15043ef",
   "metadata": {},
   "outputs": [],
   "source": []
  },
  {
   "cell_type": "code",
   "execution_count": null,
   "id": "cedd2bdf-874d-4dc6-8f44-e5130577fca8",
   "metadata": {},
   "outputs": [],
   "source": []
  }
 ],
 "metadata": {
  "kernelspec": {
   "display_name": "Python 3 (ipykernel)",
   "language": "python",
   "name": "python3"
  },
  "language_info": {
   "codemirror_mode": {
    "name": "ipython",
    "version": 3
   },
   "file_extension": ".py",
   "mimetype": "text/x-python",
   "name": "python",
   "nbconvert_exporter": "python",
   "pygments_lexer": "ipython3",
   "version": "3.7.0"
  }
 },
 "nbformat": 4,
 "nbformat_minor": 5
}

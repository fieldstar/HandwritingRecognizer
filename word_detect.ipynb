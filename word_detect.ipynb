{
 "cells": [
  {
   "cell_type": "code",
   "execution_count": 2,
   "id": "e6cc86d4-ffc6-4b13-87a2-05391abbc207",
   "metadata": {
    "tags": []
   },
   "outputs": [
    {
     "name": "stdout",
     "output_type": "stream",
     "text": [
      "选择的文件路径: C:/Users/Administrator/Pictures/wishes.jpg\n"
     ]
    }
   ],
   "source": [
    "import cv2\n",
    "import numpy as np\n",
    "import tkinter as tk\n",
    "from tkinter import filedialog\n",
    "import imageio\n",
    "# 创建一个Tkinter窗口\n",
    "root = tk.Tk()\n",
    " \n",
    "# 弹出文件选择对话框\n",
    "file_path = filedialog.askopenfilename() \n",
    "print(\"选择的文件路径:\", file_path)\n",
    "\n",
    "root.destroy()\n",
    "def is_gif_file(file_path):\n",
    "    with open(file_path, 'rb') as f:\n",
    "        return f.read(6) == b'GIF89a' or f.read(6) == b'GIF87a'\n",
    "if is_gif_file(file_path): \n",
    "    gif_image = imageio.imread(file_path)\n",
    "    img= cv2.cvtColor(gif_image, cv2.COLOR_RGB2BGR)\n",
    "else:\n",
    "    img=cv2.imread(file_path)\n",
    "img = cv2.normalize(img, None, 0, 255, cv2.NORM_MINMAX, cv2.CV_8U)\n",
    "\n",
    "gray = cv2.cvtColor(img, cv2.COLOR_BGR2GRAY)\n"
   ]
  },
  {
   "cell_type": "code",
   "execution_count": 3,
   "id": "5eb326f2-24a9-410c-a457-d3da50fdc9e8",
   "metadata": {
    "tags": []
   },
   "outputs": [],
   "source": [
    "\n",
    "# 使用Canny算法检测边缘\n",
    "edges = cv2.Canny(gray, 50, 150)\n",
    "\n",
    "# 查找轮廓\n",
    "contours, _ = cv2.findContours(edges, cv2.RETR_EXTERNAL, cv2.CHAIN_APPROX_SIMPLE)\n",
    "\n",
    "# 对每个轮廓进行膨胀操作\n",
    "kernel = np.ones((5,5),int)\n",
    "\n",
    "#contours = [cv2.dilate(cnt, kernel, iterations = 1) for cnt in contours]\n",
    "\n",
    "# 遍历每个轮廓\n",
    "for i, contour in enumerate(contours):\n",
    "    # 计算轮廓的边界框\n",
    "    x, y, w, h = cv2.boundingRect(contour)\n",
    "\n",
    "    # 在原图上画出边界框\n",
    "    cv2.rectangle(img, (x, y), (x+w, y+h), (0, 255, 0), 1)\n",
    "\n",
    "    # 提取边界框内的部分，保存为新的图片\n",
    "    roi = img[y:y+h, x:x+w]\n",
    "    cv2.imwrite('data/output/object_{}_{}.jpg'.format(i,np.random.randint(1000,9999)), roi)\n",
    "\n",
    "# 显示带有边界框的图像\n",
    "cv2.imshow('img', img)\n",
    "cv2.waitKey(0)\n",
    "cv2.destroyAllWindows()"
   ]
  },
  {
   "cell_type": "code",
   "execution_count": 4,
   "id": "eeb9e08e-03ce-44ca-b470-a2db269f9cf4",
   "metadata": {
    "tags": []
   },
   "outputs": [],
   "source": [
    "# 使用二值化处理\n",
    "_, binary = cv2.threshold(gray, 150, 255, cv2.THRESH_BINARY_INV)\n",
    "\n",
    "# 使用形态学膨胀操作，连接断开的笔画\n",
    "kernel = np.ones((5,5),np.uint8)\n",
    "dilated = cv2.dilate(binary, kernel, iterations = 1)\n",
    "\n",
    "# 使用闭运算填充断开的笔画\n",
    "closed = cv2.morphologyEx(dilated, cv2.MORPH_CLOSE, kernel)\n",
    "\n",
    "# 查找轮廓\n",
    "contours, _ = cv2.findContours(closed, cv2.RETR_EXTERNAL, cv2.CHAIN_APPROX_SIMPLE)\n",
    "\n",
    "# 遍历每个轮廓\n",
    "for i, contour in enumerate(contours):\n",
    "    # 计算轮廓的边界框\n",
    "    x, y, w, h = cv2.boundingRect(contour)\n",
    "\n",
    "    # 在原图上画出边界框\n",
    "    cv2.rectangle(img, (x, y), (x+w, y+h), (0, 255, 0),1)\n",
    "\n",
    "    # 提取边界框内的部分，保存为新的图片\n",
    "    roi = img[y:y+h, x:x+w]\n",
    "    cv2.imwrite('data/output/object_{}_{}.jpg'.format(i,np.random.randint(1000,9999)),roi)\n",
    "\n",
    "# 显示带有边界框的图像\n",
    "cv2.imshow('img', img)\n",
    "cv2.waitKey(0)\n",
    "cv2.destroyAllWindows()"
   ]
  },
  {
   "cell_type": "code",
   "execution_count": 5,
   "id": "0381fb79-c26e-4d1c-8626-5459d2bf79a3",
   "metadata": {
    "tags": []
   },
   "outputs": [
    {
     "name": "stdout",
     "output_type": "stream",
     "text": [
      "选择的文件路径: C:/Users/Administrator/Pictures/wishes.jpg\n",
      "保存成功！文件名：data/output/word_1_65134.jpg\n",
      "保存成功！文件名：data/output/word_2_72673.jpg\n",
      "保存成功！文件名：data/output/word_3_85498.jpg\n",
      "保存成功！文件名：data/output/word_4_75757.jpg\n",
      "保存成功！文件名：data/output/word_5_37384.jpg\n",
      "保存成功！文件名：data/output/word_6_30992.jpg\n",
      "保存成功！文件名：data/output/word_7_40747.jpg\n",
      "保存成功！文件名：data/output/word_8_62979.jpg\n",
      "保存成功！文件名：data/output/word_9_91843.jpg\n",
      "保存成功！文件名：data/output/word_10_87347.jpg\n",
      "保存成功！文件名：data/output/word_11_93657.jpg\n",
      "保存成功！文件名：data/output/word_12_65404.jpg\n"
     ]
    }
   ],
   "source": [
    "root = tk.Tk()\n",
    " \n",
    "# 弹出文件选择对话框\n",
    "file_path = filedialog.askopenfilename() \n",
    "print(\"选择的文件路径:\", file_path)\n",
    "\n",
    "root.destroy()\n",
    "def is_gif_file(file_path):\n",
    "    return file_path.split('.')[-1]=='gif' or file_path.split('.')[-1]=='GIF'\n",
    "if is_gif_file(file_path): \n",
    "    gif_image = imageio.imread(file_path)\n",
    "    img= cv2.cvtColor(gif_image, cv2.COLOR_RGB2BGR)\n",
    "else:\n",
    "    img=cv2.imread(file_path)\n",
    "img = cv2.normalize(img, None, 0, 255, cv2.NORM_MINMAX, cv2.CV_8U)\n",
    "\n",
    "image=img\n",
    "clone = image.copy()\n",
    "\n",
    "# 创建一个窗口来显示图片\n",
    "cv2.namedWindow('image')\n",
    "\n",
    "# 初始化变量\n",
    "drawing = False\n",
    "points = []\n",
    "counter = 1\n",
    "contours = []\n",
    "# 定义鼠标事件的回调函数\n",
    "def draw_contour(event, x, y, flags, param):\n",
    "    global drawing, points, clone, counter\n",
    "\n",
    "    if event == cv2.EVENT_LBUTTONDOWN:\n",
    "        drawing = True\n",
    "        points = [(x, y)]\n",
    "\n",
    "    if event == cv2.EVENT_LBUTTONUP:\n",
    "        drawing = False\n",
    "        points.append((x, y))\n",
    "        cv2.rectangle(clone, points[0], points[1], (0, 255, 0), 2)\n",
    "        cv2.imshow('image', clone)\n",
    "\n",
    "        # 提取标出的轮廓区域\n",
    "        roi = image[points[0][1]:points[1][1], points[0][0]:points[1][0]]\n",
    "        # 保存为单独的图片文件\n",
    "        filename = f'data/output/word_{counter}_{str(np.random.randint(10000,99999))}.jpg'\n",
    "        \n",
    "        cv2.imwrite(filename, roi)\n",
    "        print(f'保存成功！文件名：{filename}')\n",
    "        counter += 1\n",
    "        # 添加轮廓到列表中\n",
    "        contours.append(points)  \n",
    "    elif event == cv2.EVENT_MOUSEMOVE:\n",
    "        if drawing:\n",
    "            clone = image.copy()\n",
    "            cv2.rectangle(clone, points[0], (x, y), (0, 255, 0), 1)\n",
    "            cv2.imshow('image', clone)\n",
    "  \n",
    "# 注册鼠标事件的回调函数\n",
    "cv2.setMouseCallback('image', draw_contour)\n",
    "# 绘制保存的轮廓\n",
    "while True:\n",
    "    cv2.imshow('image', clone)\n",
    "    # & 0xFF用于把高于8位的值屏蔽掉\n",
    "    key = cv2.waitKey(1) & 0xFF\n",
    "    for contour in contours:\n",
    "        cv2.rectangle(clone, contour[0], contour[1], (255, 0, 255), thickness=1)\n",
    "\n",
    "    # 按下 'q' 键退出程序\n",
    "    if key == ord('q'):\n",
    "        break\n",
    "        \n",
    "# 关闭窗口\n",
    "cv2.destroyAllWindows()"
   ]
  },
  {
   "cell_type": "code",
   "execution_count": null,
   "id": "099a9266-f12b-4474-89be-00a693ee46a6",
   "metadata": {},
   "outputs": [],
   "source": []
  },
  {
   "cell_type": "code",
   "execution_count": null,
   "id": "7f7d5b34-9d54-4b3a-b5be-8f7c54144bd3",
   "metadata": {},
   "outputs": [],
   "source": []
  },
  {
   "cell_type": "code",
   "execution_count": null,
   "id": "47485f39-a7e9-499f-89c6-1160336e9794",
   "metadata": {},
   "outputs": [],
   "source": []
  }
 ],
 "metadata": {
  "kernelspec": {
   "display_name": "Python 3 (ipykernel)",
   "language": "python",
   "name": "python3"
  },
  "language_info": {
   "codemirror_mode": {
    "name": "ipython",
    "version": 3
   },
   "file_extension": ".py",
   "mimetype": "text/x-python",
   "name": "python",
   "nbconvert_exporter": "python",
   "pygments_lexer": "ipython3",
   "version": "3.7.0"
  }
 },
 "nbformat": 4,
 "nbformat_minor": 5
}

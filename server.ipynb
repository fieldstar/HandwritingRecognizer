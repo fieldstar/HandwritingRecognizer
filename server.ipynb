{
 "cells": [
  {
   "cell_type": "code",
   "execution_count": 1,
   "id": "3e25456b-133c-4e67-a725-121c41d624eb",
   "metadata": {
    "tags": []
   },
   "outputs": [
    {
     "name": "stdout",
     "output_type": "stream",
     "text": [
      "data\\wordlib 文件夹存在，可以使用...\n"
     ]
    }
   ],
   "source": [
    "# %load app.py\n",
    "\"\"\"\n",
    "@author: 曾小青<zengxq@csust.edu.cn>\n",
    "\"\"\"\n",
    "import os\n",
    "import random \n",
    "from flask import Flask, request, render_template\n",
    "import csv\n",
    "import pandas as pd\n",
    "import numpy as np  \n",
    "import Recognizer as recog"
   ]
  },
  {
   "cell_type": "code",
   "execution_count": null,
   "id": "f6e307da-7785-4374-8bee-7838d296f203",
   "metadata": {
    "tags": []
   },
   "outputs": [
    {
     "name": "stdout",
     "output_type": "stream",
     "text": [
      " * Serving Flask app '__main__' (lazy loading)\n",
      " * Environment: production\n",
      "\u001b[31m   WARNING: This is a development server. Do not use it in a production deployment.\u001b[0m\n",
      "\u001b[2m   Use a production WSGI server instead.\u001b[0m\n",
      " * Debug mode: off\n"
     ]
    },
    {
     "name": "stderr",
     "output_type": "stream",
     "text": [
      "WARNING: This is a development server. Do not use it in a production deployment. Use a production WSGI server instead.\n",
      " * Running on all addresses (0.0.0.0)\n",
      " * Running on http://127.0.0.1:5555\n",
      " * Running on http://192.168.0.102:5555\n",
      "Press CTRL+C to quit\n",
      "192.168.0.102 - - [26/Aug/2023 07:48:21] \"GET / HTTP/1.1\" 200 -\n",
      "192.168.0.102 - - [26/Aug/2023 07:48:21] \"GET /jquery_1.12.0.min.js HTTP/1.1\" 404 -\n",
      "192.168.0.102 - - [26/Aug/2023 07:48:21] \"GET /style.css HTTP/1.1\" 404 -\n",
      "192.168.0.102 - - [26/Aug/2023 07:48:27] \"POST /show HTTP/1.1\" 200 -\n",
      "192.168.0.102 - - [26/Aug/2023 07:48:27] \"GET /static/uploads/丈_行书_米芾_10987_785410_aug.gif HTTP/1.1\" 200 -\n"
     ]
    },
    {
     "name": "stdout",
     "output_type": "stream",
     "text": [
      "C:\\Users\\Administrator\\Desktop\\AI\\CalligraphyRecognizer\\data/uploads/丈_行书_米芾_10987_785410_aug.gif\n",
      "\n",
      "图片文字预测为:\"之\"，其Label为38\n",
      "C:\\Users\\Administrator\\Desktop\\AI\\CalligraphyRecognizer\\data/uploads/丈_行书_米芾_10987_785410_aug.gif\n",
      "\n",
      "图片文字预测为:\"赵孟頫\"，其Label为363\n"
     ]
    },
    {
     "name": "stderr",
     "output_type": "stream",
     "text": [
      "192.168.0.102 - - [26/Aug/2023 07:48:30] \"GET / HTTP/1.1\" 200 -\n",
      "192.168.0.102 - - [26/Aug/2023 07:48:30] \"GET /style.css HTTP/1.1\" 404 -\n",
      "192.168.0.102 - - [26/Aug/2023 07:48:30] \"GET /jquery_1.12.0.min.js HTTP/1.1\" 404 -\n",
      "192.168.0.102 - - [26/Aug/2023 07:48:35] \"POST /show HTTP/1.1\" 200 -\n",
      "192.168.0.102 - - [26/Aug/2023 07:48:35] \"GET /static/uploads/业_行书_敬世江_11228_843182_aug.gif HTTP/1.1\" 200 -\n"
     ]
    },
    {
     "name": "stdout",
     "output_type": "stream",
     "text": [
      "C:\\Users\\Administrator\\Desktop\\AI\\CalligraphyRecognizer\\data/uploads/业_行书_敬世江_11228_843182_aug.gif\n",
      "\n",
      "图片文字预测为:\"业\"，其Label为17\n",
      "C:\\Users\\Administrator\\Desktop\\AI\\CalligraphyRecognizer\\data/uploads/业_行书_敬世江_11228_843182_aug.gif\n",
      "\n",
      "图片文字预测为:\"敬世江\"，其Label为132\n"
     ]
    },
    {
     "name": "stderr",
     "output_type": "stream",
     "text": [
      "192.168.0.102 - - [26/Aug/2023 07:48:38] \"GET / HTTP/1.1\" 200 -\n",
      "192.168.0.102 - - [26/Aug/2023 07:48:39] \"GET /jquery_1.12.0.min.js HTTP/1.1\" 404 -\n",
      "192.168.0.102 - - [26/Aug/2023 07:48:39] \"GET /style.css HTTP/1.1\" 404 -\n",
      "192.168.0.102 - - [26/Aug/2023 07:48:46] \"POST /show HTTP/1.1\" 200 -\n",
      "192.168.0.102 - - [26/Aug/2023 07:48:46] \"GET /static/uploads/业_行书_王羲之_11238_384022_aug.gif HTTP/1.1\" 200 -\n"
     ]
    },
    {
     "name": "stdout",
     "output_type": "stream",
     "text": [
      "C:\\Users\\Administrator\\Desktop\\AI\\CalligraphyRecognizer\\data/uploads/业_行书_王羲之_11238_384022_aug.gif\n",
      "\n",
      "图片文字预测为:\"业\"，其Label为17\n",
      "C:\\Users\\Administrator\\Desktop\\AI\\CalligraphyRecognizer\\data/uploads/业_行书_王羲之_11238_384022_aug.gif\n",
      "\n",
      "图片文字预测为:\"王羲之\"，其Label为266\n"
     ]
    },
    {
     "name": "stderr",
     "output_type": "stream",
     "text": [
      "192.168.0.102 - - [26/Aug/2023 07:48:50] \"GET / HTTP/1.1\" 200 -\n",
      "192.168.0.102 - - [26/Aug/2023 07:48:50] \"GET /jquery_1.12.0.min.js HTTP/1.1\" 404 -\n",
      "192.168.0.102 - - [26/Aug/2023 07:48:50] \"GET /style.css HTTP/1.1\" 404 -\n",
      "192.168.0.102 - - [26/Aug/2023 07:48:57] \"POST /show HTTP/1.1\" 200 -\n",
      "192.168.0.102 - - [26/Aug/2023 07:48:57] \"GET /static/uploads/所_行书_米芾_29719_298975_aug.gif HTTP/1.1\" 200 -\n"
     ]
    },
    {
     "name": "stdout",
     "output_type": "stream",
     "text": [
      "C:\\Users\\Administrator\\Desktop\\AI\\CalligraphyRecognizer\\data/uploads/所_行书_米芾_29719_298975_aug.gif\n",
      "\n",
      "图片文字预测为:\"所\"，其Label为342\n",
      "C:\\Users\\Administrator\\Desktop\\AI\\CalligraphyRecognizer\\data/uploads/所_行书_米芾_29719_298975_aug.gif\n",
      "\n",
      "图片文字预测为:\"赵孟頫\"，其Label为363\n"
     ]
    },
    {
     "name": "stderr",
     "output_type": "stream",
     "text": [
      "192.168.0.102 - - [26/Aug/2023 07:49:01] \"GET / HTTP/1.1\" 200 -\n",
      "192.168.0.102 - - [26/Aug/2023 07:49:01] \"GET /jquery_1.12.0.min.js HTTP/1.1\" 404 -\n",
      "192.168.0.102 - - [26/Aug/2023 07:49:01] \"GET /style.css HTTP/1.1\" 404 -\n",
      "192.168.0.102 - - [26/Aug/2023 07:49:09] \"POST /show HTTP/1.1\" 200 -\n",
      "192.168.0.102 - - [26/Aug/2023 07:49:09] \"GET /static/uploads/慕_行书_颜真卿_28926_355977_aug.gif HTTP/1.1\" 200 -\n"
     ]
    },
    {
     "name": "stdout",
     "output_type": "stream",
     "text": [
      "C:\\Users\\Administrator\\Desktop\\AI\\CalligraphyRecognizer\\data/uploads/慕_行书_颜真卿_28926_355977_aug.gif\n",
      "\n",
      "图片文字预测为:\"慕\"，其Label为297\n",
      "C:\\Users\\Administrator\\Desktop\\AI\\CalligraphyRecognizer\\data/uploads/慕_行书_颜真卿_28926_355977_aug.gif\n",
      "\n",
      "图片文字预测为:\"颜真卿\"，其Label为427\n"
     ]
    },
    {
     "name": "stderr",
     "output_type": "stream",
     "text": [
      "192.168.0.102 - - [26/Aug/2023 07:49:13] \"GET / HTTP/1.1\" 200 -\n",
      "192.168.0.102 - - [26/Aug/2023 07:49:13] \"GET /jquery_1.12.0.min.js HTTP/1.1\" 404 -\n",
      "192.168.0.102 - - [26/Aug/2023 07:49:13] \"GET /style.css HTTP/1.1\" 404 -\n",
      "192.168.0.102 - - [26/Aug/2023 07:49:25] \"POST /show HTTP/1.1\" 200 -\n",
      "192.168.0.102 - - [26/Aug/2023 07:49:25] \"GET /static/uploads/13266_600465_aug.gif HTTP/1.1\" 200 -\n"
     ]
    },
    {
     "name": "stdout",
     "output_type": "stream",
     "text": [
      "C:\\Users\\Administrator\\Desktop\\AI\\CalligraphyRecognizer\\data/uploads/13266_600465_aug.gif\n",
      "\n",
      "图片文字预测为:\"作\"，其Label为145\n",
      "C:\\Users\\Administrator\\Desktop\\AI\\CalligraphyRecognizer\\data/uploads/13266_600465_aug.gif\n",
      "\n",
      "图片文字预测为:\"何绍基\"，其Label为11\n"
     ]
    },
    {
     "name": "stderr",
     "output_type": "stream",
     "text": [
      "192.168.0.102 - - [26/Aug/2023 07:49:28] \"GET / HTTP/1.1\" 200 -\n",
      "192.168.0.102 - - [26/Aug/2023 07:49:28] \"GET /jquery_1.12.0.min.js HTTP/1.1\" 404 -\n",
      "192.168.0.102 - - [26/Aug/2023 07:49:28] \"GET /style.css HTTP/1.1\" 404 -\n",
      "192.168.0.102 - - [26/Aug/2023 07:49:34] \"POST /show HTTP/1.1\" 200 -\n",
      "192.168.0.102 - - [26/Aug/2023 07:49:34] \"GET /static/uploads/190512.gif HTTP/1.1\" 200 -\n"
     ]
    },
    {
     "name": "stdout",
     "output_type": "stream",
     "text": [
      "C:\\Users\\Administrator\\Desktop\\AI\\CalligraphyRecognizer\\data/uploads/190512.gif\n",
      "\n",
      "图片文字预测为:\"來\"，其Label为156\n",
      "C:\\Users\\Administrator\\Desktop\\AI\\CalligraphyRecognizer\\data/uploads/190512.gif\n",
      "\n",
      "图片文字预测为:\"米芾\"，其Label为295\n"
     ]
    },
    {
     "name": "stderr",
     "output_type": "stream",
     "text": [
      "192.168.0.102 - - [26/Aug/2023 07:49:36] \"GET / HTTP/1.1\" 200 -\n",
      "192.168.0.102 - - [26/Aug/2023 07:49:36] \"GET /jquery_1.12.0.min.js HTTP/1.1\" 404 -\n",
      "192.168.0.102 - - [26/Aug/2023 07:49:36] \"GET /style.css HTTP/1.1\" 404 -\n",
      "192.168.0.102 - - [26/Aug/2023 07:49:45] \"POST /show HTTP/1.1\" 200 -\n",
      "192.168.0.102 - - [26/Aug/2023 07:49:45] \"GET /static/uploads/行书_冯敏昌_12141_166123_aug.gif HTTP/1.1\" 200 -\n"
     ]
    },
    {
     "name": "stdout",
     "output_type": "stream",
     "text": [
      "C:\\Users\\Administrator\\Desktop\\AI\\CalligraphyRecognizer\\data/uploads/行书_冯敏昌_12141_166123_aug.gif\n",
      "\n",
      "图片文字预测为:\"云\"，其Label为64\n",
      "C:\\Users\\Administrator\\Desktop\\AI\\CalligraphyRecognizer\\data/uploads/行书_冯敏昌_12141_166123_aug.gif\n",
      "\n",
      "图片文字预测为:\"冯敏昌\"，其Label为24\n"
     ]
    },
    {
     "name": "stderr",
     "output_type": "stream",
     "text": [
      "192.168.0.102 - - [26/Aug/2023 07:49:48] \"GET / HTTP/1.1\" 200 -\n",
      "192.168.0.102 - - [26/Aug/2023 07:49:48] \"GET /jquery_1.12.0.min.js HTTP/1.1\" 404 -\n",
      "192.168.0.102 - - [26/Aug/2023 07:49:48] \"GET /style.css HTTP/1.1\" 404 -\n",
      "192.168.0.102 - - [26/Aug/2023 07:49:53] \"POST /show HTTP/1.1\" 200 -\n",
      "192.168.0.102 - - [26/Aug/2023 07:49:53] \"GET /static/uploads/行书_鲜于枢_13027.gif HTTP/1.1\" 200 -\n"
     ]
    },
    {
     "name": "stdout",
     "output_type": "stream",
     "text": [
      "C:\\Users\\Administrator\\Desktop\\AI\\CalligraphyRecognizer\\data/uploads/行书_鲜于枢_13027.gif\n",
      "\n",
      "图片文字预测为:\"信\"，其Label为186\n",
      "C:\\Users\\Administrator\\Desktop\\AI\\CalligraphyRecognizer\\data/uploads/行书_鲜于枢_13027.gif\n",
      "\n",
      "图片文字预测为:\"李世民\"，其Label为155\n"
     ]
    },
    {
     "name": "stderr",
     "output_type": "stream",
     "text": [
      "192.168.0.102 - - [26/Aug/2023 07:49:57] \"GET / HTTP/1.1\" 200 -\n",
      "192.168.0.102 - - [26/Aug/2023 07:49:57] \"GET /jquery_1.12.0.min.js HTTP/1.1\" 404 -\n",
      "192.168.0.102 - - [26/Aug/2023 07:49:57] \"GET /style.css HTTP/1.1\" 404 -\n",
      "192.168.0.102 - - [26/Aug/2023 07:50:03] \"POST /show HTTP/1.1\" 200 -\n",
      "192.168.0.102 - - [26/Aug/2023 07:50:03] \"GET /static/uploads/行书_黄庭坚_12941_873444_aug.gif HTTP/1.1\" 200 -\n"
     ]
    },
    {
     "name": "stdout",
     "output_type": "stream",
     "text": [
      "C:\\Users\\Administrator\\Desktop\\AI\\CalligraphyRecognizer\\data/uploads/行书_黄庭坚_12941_873444_aug.gif\n",
      "\n",
      "图片文字预测为:\"传\"，其Label为122\n",
      "C:\\Users\\Administrator\\Desktop\\AI\\CalligraphyRecognizer\\data/uploads/行书_黄庭坚_12941_873444_aug.gif\n",
      "\n",
      "图片文字预测为:\"苏轼\"，其Label为307\n"
     ]
    },
    {
     "name": "stderr",
     "output_type": "stream",
     "text": [
      "192.168.0.102 - - [26/Aug/2023 07:50:07] \"GET / HTTP/1.1\" 200 -\n",
      "192.168.0.102 - - [26/Aug/2023 07:50:07] \"GET /jquery_1.12.0.min.js HTTP/1.1\" 404 -\n",
      "192.168.0.102 - - [26/Aug/2023 07:50:07] \"GET /style.css HTTP/1.1\" 404 -\n",
      "C:\\Users\\Administrator\\Desktop\\AI\\CalligraphyRecognizer\\Recognizer.py:1293: RuntimeWarning: More than 20 figures have been opened. Figures created through the pyplot interface (`matplotlib.pyplot.figure`) are retained until explicitly closed and may consume too much memory. (To control this warning, see the rcParam `figure.max_open_warning`).\n",
      "  plt.figure(figsize=(2, 2))\n",
      "192.168.0.102 - - [26/Aug/2023 07:50:14] \"POST /show HTTP/1.1\" 200 -\n",
      "192.168.0.102 - - [26/Aug/2023 07:50:14] \"GET /static/uploads/行书_敬世江_30481.gif HTTP/1.1\" 200 -\n"
     ]
    },
    {
     "name": "stdout",
     "output_type": "stream",
     "text": [
      "C:\\Users\\Administrator\\Desktop\\AI\\CalligraphyRecognizer\\data/uploads/行书_敬世江_30481.gif\n",
      "\n",
      "图片文字预测为:\"按\"，其Label为397\n",
      "C:\\Users\\Administrator\\Desktop\\AI\\CalligraphyRecognizer\\data/uploads/行书_敬世江_30481.gif\n",
      "\n",
      "图片文字预测为:\"唐寅\"，其Label为69\n"
     ]
    },
    {
     "name": "stderr",
     "output_type": "stream",
     "text": [
      "192.168.0.102 - - [26/Aug/2023 07:50:18] \"GET / HTTP/1.1\" 200 -\n",
      "192.168.0.102 - - [26/Aug/2023 07:50:18] \"GET /jquery_1.12.0.min.js HTTP/1.1\" 404 -\n",
      "192.168.0.102 - - [26/Aug/2023 07:50:18] \"GET /style.css HTTP/1.1\" 404 -\n",
      "192.168.0.102 - - [26/Aug/2023 07:50:24] \"POST /show HTTP/1.1\" 200 -\n",
      "192.168.0.102 - - [26/Aug/2023 07:50:24] \"GET /static/uploads/行书_翁方纲_13780_577702_aug.gif HTTP/1.1\" 200 -\n"
     ]
    },
    {
     "name": "stdout",
     "output_type": "stream",
     "text": [
      "C:\\Users\\Administrator\\Desktop\\AI\\CalligraphyRecognizer\\data/uploads/行书_翁方纲_13780_577702_aug.gif\n",
      "\n",
      "图片文字预测为:\"俭\"，其Label为189\n",
      "C:\\Users\\Administrator\\Desktop\\AI\\CalligraphyRecognizer\\data/uploads/行书_翁方纲_13780_577702_aug.gif\n",
      "\n",
      "图片文字预测为:\"敬世江\"，其Label为132\n"
     ]
    },
    {
     "name": "stderr",
     "output_type": "stream",
     "text": [
      "192.168.0.102 - - [26/Aug/2023 07:50:27] \"GET / HTTP/1.1\" 200 -\n",
      "192.168.0.102 - - [26/Aug/2023 07:50:27] \"GET /jquery_1.12.0.min.js HTTP/1.1\" 404 -\n",
      "192.168.0.102 - - [26/Aug/2023 07:50:27] \"GET /style.css HTTP/1.1\" 404 -\n",
      "192.168.0.102 - - [26/Aug/2023 07:50:34] \"POST /show HTTP/1.1\" 200 -\n",
      "192.168.0.102 - - [26/Aug/2023 07:50:34] \"GET /static/uploads/行书_米芾_31200_177126_aug.gif HTTP/1.1\" 200 -\n"
     ]
    },
    {
     "name": "stdout",
     "output_type": "stream",
     "text": [
      "C:\\Users\\Administrator\\Desktop\\AI\\CalligraphyRecognizer\\data/uploads/行书_米芾_31200_177126_aug.gif\n",
      "\n",
      "图片文字预测为:\"撰\"，其Label为468\n",
      "C:\\Users\\Administrator\\Desktop\\AI\\CalligraphyRecognizer\\data/uploads/行书_米芾_31200_177126_aug.gif\n",
      "\n",
      "图片文字预测为:\"王羲之\"，其Label为266\n"
     ]
    },
    {
     "name": "stderr",
     "output_type": "stream",
     "text": [
      "192.168.0.102 - - [26/Aug/2023 07:50:37] \"GET / HTTP/1.1\" 200 -\n",
      "192.168.0.102 - - [26/Aug/2023 07:50:37] \"GET /jquery_1.12.0.min.js HTTP/1.1\" 404 -\n",
      "192.168.0.102 - - [26/Aug/2023 07:50:37] \"GET /style.css HTTP/1.1\" 404 -\n",
      "192.168.0.102 - - [26/Aug/2023 07:50:42] \"POST /show HTTP/1.1\" 200 -\n",
      "192.168.0.102 - - [26/Aug/2023 07:50:42] \"GET /static/uploads/69520.gif HTTP/1.1\" 200 -\n"
     ]
    },
    {
     "name": "stdout",
     "output_type": "stream",
     "text": [
      "C:\\Users\\Administrator\\Desktop\\AI\\CalligraphyRecognizer\\data/uploads/69520.gif\n",
      "\n",
      "图片文字预测为:\"房\"，其Label为341\n",
      "C:\\Users\\Administrator\\Desktop\\AI\\CalligraphyRecognizer\\data/uploads/69520.gif\n",
      "\n",
      "图片文字预测为:\"欧阳询\"，其Label为202\n"
     ]
    },
    {
     "name": "stderr",
     "output_type": "stream",
     "text": [
      "192.168.0.102 - - [26/Aug/2023 07:50:44] \"GET / HTTP/1.1\" 200 -\n",
      "192.168.0.102 - - [26/Aug/2023 07:50:44] \"GET /jquery_1.12.0.min.js HTTP/1.1\" 404 -\n",
      "192.168.0.102 - - [26/Aug/2023 07:50:44] \"GET /style.css HTTP/1.1\" 404 -\n",
      "192.168.0.102 - - [26/Aug/2023 07:50:52] \"POST /show HTTP/1.1\" 200 -\n",
      "192.168.0.102 - - [26/Aug/2023 07:50:52] \"GET /static/uploads/行书_米芾_27922_238843_aug.gif HTTP/1.1\" 200 -\n"
     ]
    },
    {
     "name": "stdout",
     "output_type": "stream",
     "text": [
      "C:\\Users\\Administrator\\Desktop\\AI\\CalligraphyRecognizer\\data/uploads/行书_米芾_27922_238843_aug.gif\n",
      "\n",
      "图片文字预测为:\"息\"，其Label为239\n",
      "C:\\Users\\Administrator\\Desktop\\AI\\CalligraphyRecognizer\\data/uploads/行书_米芾_27922_238843_aug.gif\n",
      "\n",
      "图片文字预测为:\"米芾\"，其Label为295\n"
     ]
    },
    {
     "name": "stderr",
     "output_type": "stream",
     "text": [
      "192.168.0.102 - - [26/Aug/2023 07:52:03] \"GET / HTTP/1.1\" 200 -\n",
      "192.168.0.102 - - [26/Aug/2023 07:52:03] \"GET /jquery_1.12.0.min.js HTTP/1.1\" 404 -\n",
      "192.168.0.102 - - [26/Aug/2023 07:52:03] \"GET /style.css HTTP/1.1\" 404 -\n",
      "192.168.0.102 - - [26/Aug/2023 07:52:11] \"POST /show HTTP/1.1\" 200 -\n",
      "192.168.0.102 - - [26/Aug/2023 07:52:11] \"GET /static/uploads/x1.jpg HTTP/1.1\" 200 -\n"
     ]
    },
    {
     "name": "stdout",
     "output_type": "stream",
     "text": [
      "C:\\Users\\Administrator\\Desktop\\AI\\CalligraphyRecognizer\\data/uploads/x1.jpg\n",
      "\n",
      "图片文字预测为:\"怒\"，其Label为210\n",
      "C:\\Users\\Administrator\\Desktop\\AI\\CalligraphyRecognizer\\data/uploads/x1.jpg\n",
      "\n",
      "图片文字预测为:\"苏轼\"，其Label为307\n"
     ]
    },
    {
     "name": "stderr",
     "output_type": "stream",
     "text": [
      "192.168.0.102 - - [26/Aug/2023 07:52:15] \"GET / HTTP/1.1\" 200 -\n",
      "192.168.0.102 - - [26/Aug/2023 07:52:15] \"GET /jquery_1.12.0.min.js HTTP/1.1\" 404 -\n",
      "192.168.0.102 - - [26/Aug/2023 07:52:15] \"GET /style.css HTTP/1.1\" 404 -\n",
      "192.168.0.102 - - [26/Aug/2023 07:52:21] \"POST /show HTTP/1.1\" 200 -\n",
      "192.168.0.102 - - [26/Aug/2023 07:52:21] \"GET /static/uploads/146874.gif HTTP/1.1\" 200 -\n"
     ]
    },
    {
     "name": "stdout",
     "output_type": "stream",
     "text": [
      "C:\\Users\\Administrator\\Desktop\\AI\\CalligraphyRecognizer\\data/uploads/146874.gif\n",
      "\n",
      "图片文字预测为:\"今\"，其Label为91\n",
      "C:\\Users\\Administrator\\Desktop\\AI\\CalligraphyRecognizer\\data/uploads/146874.gif\n",
      "\n",
      "图片文字预测为:\"王羲之\"，其Label为266\n"
     ]
    },
    {
     "name": "stderr",
     "output_type": "stream",
     "text": [
      "192.168.0.102 - - [26/Aug/2023 07:52:27] \"GET / HTTP/1.1\" 200 -\n",
      "192.168.0.102 - - [26/Aug/2023 07:52:27] \"GET /jquery_1.12.0.min.js HTTP/1.1\" 404 -\n",
      "192.168.0.102 - - [26/Aug/2023 07:52:27] \"GET /style.css HTTP/1.1\" 404 -\n",
      "192.168.0.102 - - [26/Aug/2023 07:52:34] \"POST /show HTTP/1.1\" 200 -\n",
      "192.168.0.102 - - [26/Aug/2023 07:52:34] \"GET /static/uploads/x2.jpg HTTP/1.1\" 200 -\n"
     ]
    },
    {
     "name": "stdout",
     "output_type": "stream",
     "text": [
      "C:\\Users\\Administrator\\Desktop\\AI\\CalligraphyRecognizer\\data/uploads/x2.jpg\n",
      "\n",
      "图片文字预测为:\"世\"，其Label为14\n",
      "C:\\Users\\Administrator\\Desktop\\AI\\CalligraphyRecognizer\\data/uploads/x2.jpg\n",
      "\n",
      "图片文字预测为:\"王铎\"，其Label为274\n"
     ]
    },
    {
     "name": "stderr",
     "output_type": "stream",
     "text": [
      "192.168.0.102 - - [26/Aug/2023 07:52:36] \"GET / HTTP/1.1\" 200 -\n",
      "192.168.0.102 - - [26/Aug/2023 07:52:36] \"GET /jquery_1.12.0.min.js HTTP/1.1\" 404 -\n",
      "192.168.0.102 - - [26/Aug/2023 07:52:36] \"GET /style.css HTTP/1.1\" 404 -\n",
      "192.168.0.102 - - [26/Aug/2023 07:52:42] \"POST /show HTTP/1.1\" 200 -\n",
      "192.168.0.102 - - [26/Aug/2023 07:52:42] \"GET /static/uploads/q1.jpg HTTP/1.1\" 200 -\n"
     ]
    },
    {
     "name": "stdout",
     "output_type": "stream",
     "text": [
      "C:\\Users\\Administrator\\Desktop\\AI\\CalligraphyRecognizer\\data/uploads/q1.jpg\n",
      "\n",
      "图片文字预测为:\"个\"，其Label为26\n",
      "C:\\Users\\Administrator\\Desktop\\AI\\CalligraphyRecognizer\\data/uploads/q1.jpg\n",
      "\n",
      "图片文字预测为:\"欧阳询\"，其Label为202\n"
     ]
    },
    {
     "name": "stderr",
     "output_type": "stream",
     "text": [
      "192.168.0.102 - - [26/Aug/2023 07:52:46] \"GET / HTTP/1.1\" 200 -\n",
      "192.168.0.102 - - [26/Aug/2023 07:52:46] \"GET /jquery_1.12.0.min.js HTTP/1.1\" 404 -\n",
      "192.168.0.102 - - [26/Aug/2023 07:52:46] \"GET /style.css HTTP/1.1\" 404 -\n"
     ]
    }
   ],
   "source": [
    "app = Flask(__name__,static_folder='data', static_url_path='/static')\n",
    "\n",
    "# 文件上传目录\n",
    "app.config['UPLOAD_FOLDER'] = 'data/uploads/'\n",
    "app.config['TEST_FOLDER'] = 'data/test/'\n",
    "# 支持的文件格式\n",
    "app.config['ALLOWED_EXTENSIONS'] = {'PNG','JPG','JPEG','GIF','png','jpg', 'jpeg', 'gif'}  # 集合类型\n",
    " \n",
    "# 判断文件名是否是我们支持的格式\n",
    "def allowed_file(filename):\n",
    "    return '.' in filename and \\\n",
    "           filename.rsplit('.', 1)[1] in app.config['ALLOWED_EXTENSIONS']\n",
    "\n",
    "df_word_pinyin=pd.read_csv('data/word_pinyin.csv',header=0,encoding='gbk')\n",
    "dict_word_pinyin=df_word_pinyin[[\"word\", \"pinyin\"]].set_index(\"word\").to_dict(orient='dict')[\"pinyin\"]\n",
    "\n",
    "\n",
    "@app.route(\"/\")\n",
    "def home():\n",
    "    return render_template(\"index.html\")\n",
    "\n",
    "\n",
    "@app.route(\"/input\")\n",
    "def new_input():\n",
    "    return render_template(\"input.html\")\n",
    "\n",
    "@app.route(\"/show\", methods=[\"POST\"])\n",
    "def show():\n",
    "    upload_file = request.files['image_name']\n",
    "    if upload_file and allowed_file(upload_file.filename):\n",
    "        filename = upload_file.filename\n",
    "        # 将文件保存到 static/uploads 目录，文件名同上传时使用的文件名\n",
    "        full_img_path=os.path.join(app.root_path, app.config['UPLOAD_FOLDER'], filename)\n",
    "        upload_file.save(full_img_path)\n",
    "        # 使用预见训练的TinyVGG模型进行预测\n",
    "        word,label=recog.predict_by_image_name(full_img_path,recog.loaded_model_0)\n",
    "        word_writer,label_writer=recog.predict_writer_by_image_name(full_img_path,recog.loaded_writer_model_0)\n",
    "        \n",
    "        #使用预测训练的ResNet模型进行预测\n",
    "        # word,label=recog.predict_by_image_name(full_img_path,recog.loaded_model_0_resnet)\n",
    "        # word_writer,label_writer=recog.predict_writer_by_image_name(full_img_path,recog.loaded_writer_model_0_resnet)\n",
    "\n",
    "        return render_template(\"result.html\", filename=filename,word=word,writer=word_writer,pinyin=dict_word_pinyin[word]) \n",
    "    else:\n",
    "        return '图像文件：'+filename+'上传失败，请检查文件否为(jpg,gif,png)类型...'\n",
    "\n",
    "\n",
    "\n",
    "@app.route(\"/word_list\", methods=[\"POST\"])\n",
    "def word_list():\n",
    "    word=request.form['word']\n",
    "    images_name_list=recog.get_images_path_by_word(word)\n",
    "    \n",
    "    return render_template(\"word_list.html\",word=word,pinyin=dict_word_pinyin[word],name_list=images_name_list,base_url='/static/wordlib/')\n",
    "\n",
    "@app.route(\"/writer_list\", methods=[\"POST\"])\n",
    "def writer_list():\n",
    "    writer=request.form['writer']\n",
    "    images_name_list=recog.get_images_path_by_writer(writer)\n",
    "    \n",
    "    return render_template(\"writer_list.html\",writer=writer,name_list=images_name_list,base_url='/static/wordlib/')\n",
    "\n",
    "\n",
    "if __name__ == \"__main__\":\n",
    "    app.secret_key = os.urandom(12)\n",
    "    app.run(host='0.0.0.0',port=5555, debug=False)"
   ]
  },
  {
   "cell_type": "code",
   "execution_count": null,
   "id": "cbda0417-0578-4dd2-9368-fbf0c6209728",
   "metadata": {},
   "outputs": [],
   "source": []
  }
 ],
 "metadata": {
  "kernelspec": {
   "display_name": "Python 3",
   "language": "python",
   "name": "python3"
  },
  "language_info": {
   "codemirror_mode": {
    "name": "ipython",
    "version": 3
   },
   "file_extension": ".py",
   "mimetype": "text/x-python",
   "name": "python",
   "nbconvert_exporter": "python",
   "pygments_lexer": "ipython3",
   "version": "3.7.0"
  }
 },
 "nbformat": 4,
 "nbformat_minor": 5
}

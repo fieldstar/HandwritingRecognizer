{
 "cells": [
  {
   "cell_type": "code",
   "execution_count": null,
   "id": "2e2c077f-603a-41fa-a8f1-58f3be30019e",
   "metadata": {
    "tags": []
   },
   "outputs": [
    {
     "name": "stdout",
     "output_type": "stream",
     "text": [
      " * Serving Flask app '__main__' (lazy loading)\n",
      " * Environment: production\n",
      "\u001b[31m   WARNING: This is a development server. Do not use it in a production deployment.\u001b[0m\n",
      "\u001b[2m   Use a production WSGI server instead.\u001b[0m\n",
      " * Debug mode: off\n"
     ]
    },
    {
     "name": "stderr",
     "output_type": "stream",
     "text": [
      "WARNING: This is a development server. Do not use it in a production deployment. Use a production WSGI server instead.\n",
      " * Running on all addresses (0.0.0.0)\n",
      " * Running on http://127.0.0.1:5555\n",
      " * Running on http://198.18.10.93:5555\n",
      "Press CTRL+C to quit\n",
      "198.18.10.93 - - [22/Aug/2023 21:41:36] \"GET / HTTP/1.1\" 200 -\n",
      "198.18.10.93 - - [22/Aug/2023 21:41:36] \"GET /jquery_1.12.0.min.js HTTP/1.1\" 404 -\n",
      "198.18.10.93 - - [22/Aug/2023 21:41:36] \"GET /style.css HTTP/1.1\" 404 -\n",
      "198.18.10.93 - - [22/Aug/2023 21:41:36] \"GET /favicon.ico HTTP/1.1\" 404 -\n",
      "198.18.10.93 - - [22/Aug/2023 21:42:00] \"POST /show HTTP/1.1\" 200 -\n"
     ]
    },
    {
     "name": "stdout",
     "output_type": "stream",
     "text": [
      "C:\\Users\\Administrator\\Desktop\\AI\\CalligraphyRecognizer\\data/uploads/x1.jpg\n",
      "\n",
      "图片预测为:\"小\"，其Label为1628\n"
     ]
    },
    {
     "name": "stderr",
     "output_type": "stream",
     "text": [
      "198.18.10.93 - - [22/Aug/2023 21:42:00] \"GET /static/uploads/x1.jpg HTTP/1.1\" 200 -\n",
      "198.18.10.93 - - [22/Aug/2023 21:42:04] \"POST /word_list HTTP/1.1\" 200 -\n",
      "198.18.10.93 - - [22/Aug/2023 21:42:04] \"GET /static/wordlib/小_楷书_孙秋生造像_109396.gif HTTP/1.1\" 200 -\n",
      "198.18.10.93 - - [22/Aug/2023 21:42:04] \"GET /static/wordlib/小_楷书_张猛龙碑_109399.gif HTTP/1.1\" 200 -\n",
      "198.18.10.93 - - [22/Aug/2023 21:42:04] \"GET /static/wordlib/小_楷书_柳公权_109395.gif HTTP/1.1\" 200 -\n",
      "198.18.10.93 - - [22/Aug/2023 21:42:04] \"GET /static/wordlib/小_楷书_褚遂良_109394.gif HTTP/1.1\" 200 -\n",
      "198.18.10.93 - - [22/Aug/2023 21:42:04] \"GET /static/wordlib/小_楷书_褚遂良_109393.gif HTTP/1.1\" 200 -\n",
      "198.18.10.93 - - [22/Aug/2023 21:42:04] \"GET /static/wordlib/小_楷书_颜真卿_109397.gif HTTP/1.1\" 200 -\n",
      "198.18.10.93 - - [22/Aug/2023 21:42:04] \"GET /static/wordlib/小_楷书_颜真卿_109398.gif HTTP/1.1\" 200 -\n",
      "198.18.10.93 - - [22/Aug/2023 21:42:04] \"GET /static/wordlib/小_篆书_吴昌硕_2303.gif HTTP/1.1\" 200 -\n",
      "198.18.10.93 - - [22/Aug/2023 21:42:04] \"GET /static/wordlib/小_篆书_徐三庚_2304.gif HTTP/1.1\" 200 -\n",
      "198.18.10.93 - - [22/Aug/2023 21:42:04] \"GET /static/wordlib/小_行书_米芾_23888.gif HTTP/1.1\" 200 -\n",
      "198.18.10.93 - - [22/Aug/2023 21:42:04] \"GET /static/wordlib/小_篆书_赵之谦_2305.gif HTTP/1.1\" 200 -\n",
      "198.18.10.93 - - [22/Aug/2023 21:42:04] \"GET /static/wordlib/小_隶书_马王堆帛书_83920.gif HTTP/1.1\" 200 -\n",
      "198.18.10.93 - - [22/Aug/2023 21:42:04] \"GET /static/wordlib/小_隶书_武威简_83925.gif HTTP/1.1\" 200 -\n",
      "198.18.10.93 - - [22/Aug/2023 21:42:04] \"GET /static/wordlib/小_行书_苏轼_23890.gif HTTP/1.1\" 200 -\n",
      "198.18.10.93 - - [22/Aug/2023 21:42:04] \"GET /static/wordlib/小_草书_羊欣_146878.gif HTTP/1.1\" 200 -\n",
      "198.18.10.93 - - [22/Aug/2023 21:42:04] \"GET /static/wordlib/小_行书_米芾_23887.gif HTTP/1.1\" 200 -\n",
      "198.18.10.93 - - [22/Aug/2023 21:42:04] \"GET /static/wordlib/小_隶书_楼兰简_83919.gif HTTP/1.1\" 200 -\n",
      "198.18.10.93 - - [22/Aug/2023 21:42:04] \"GET /static/wordlib/小_隶书_汪士骧_83924.gif HTTP/1.1\" 200 -\n",
      "198.18.10.93 - - [22/Aug/2023 21:42:04] \"GET /static/wordlib/小_草书_王献之_146873.gif HTTP/1.1\" 200 -\n",
      "198.18.10.93 - - [22/Aug/2023 21:42:04] \"GET /static/wordlib/小_草书_徐伯清_146876.gif HTTP/1.1\" 200 -\n",
      "198.18.10.93 - - [22/Aug/2023 21:42:04] \"GET /static/wordlib/小_草书_康里子山_146860.gif HTTP/1.1\" 200 -\n",
      "198.18.10.93 - - [22/Aug/2023 21:42:04] \"GET /static/wordlib/小_草书_孙过庭_146866.gif HTTP/1.1\" 200 -\n",
      "198.18.10.93 - - [22/Aug/2023 21:42:04] \"GET /static/wordlib/小_行书_王羲之_23898.gif HTTP/1.1\" 200 -\n",
      "198.18.10.93 - - [22/Aug/2023 21:42:04] \"GET /static/wordlib/小_隶书_唐玄宗_83923.gif HTTP/1.1\" 200 -\n",
      "198.18.10.93 - - [22/Aug/2023 21:42:04] \"GET /static/wordlib/小_行书_王羲之_23897.gif HTTP/1.1\" 200 -\n",
      "198.18.10.93 - - [22/Aug/2023 21:42:04] \"GET /static/wordlib/小_篆书_胡澍_2302.gif HTTP/1.1\" 200 -\n",
      "198.18.10.93 - - [22/Aug/2023 21:42:04] \"GET /static/wordlib/小_隶书_伊秉绶_83927.gif HTTP/1.1\" 200 -\n",
      "198.18.10.93 - - [22/Aug/2023 21:42:04] \"GET /static/wordlib/小_草书_赵子昂_146880.gif HTTP/1.1\" 200 -\n",
      "198.18.10.93 - - [22/Aug/2023 21:42:04] \"GET /static/wordlib/小_草书_文征明_146875.gif HTTP/1.1\" 200 -\n",
      "198.18.10.93 - - [22/Aug/2023 21:42:04] \"GET /static/wordlib/小_隶书_奚冈_83926.gif HTTP/1.1\" 200 -\n",
      "198.18.10.93 - - [22/Aug/2023 21:42:04] \"GET /static/wordlib/小_草书_柳公权_146862.gif HTTP/1.1\" 200 -\n",
      "198.18.10.93 - - [22/Aug/2023 21:42:04] \"GET /static/wordlib/小_行书_王铎_23892.gif HTTP/1.1\" 200 -\n",
      "198.18.10.93 - - [22/Aug/2023 21:42:04] \"GET /static/wordlib/小_草书_怀素_146857.gif HTTP/1.1\" 200 -\n",
      "198.18.10.93 - - [22/Aug/2023 21:42:04] \"GET /static/wordlib/小_隶书_马王堆帛书_83922.gif HTTP/1.1\" 200 -\n",
      "198.18.10.93 - - [22/Aug/2023 21:42:04] \"GET /static/wordlib/小_草书_黄庭坚_146858.gif HTTP/1.1\" 200 -\n",
      "198.18.10.93 - - [22/Aug/2023 21:42:04] \"GET /static/wordlib/小_行书_陈道复_23882.gif HTTP/1.1\" 200 -\n",
      "198.18.10.93 - - [22/Aug/2023 21:42:04] \"GET /static/wordlib/小_行书_祝枝山_23902.gif HTTP/1.1\" 200 -\n",
      "198.18.10.93 - - [22/Aug/2023 21:42:04] \"GET /static/wordlib/小_行书_旦极寒帖_23883.gif HTTP/1.1\" 200 -\n",
      "198.18.10.93 - - [22/Aug/2023 21:42:05] \"GET /static/wordlib/小_草书_王羲之_146870.gif HTTP/1.1\" 200 -\n",
      "198.18.10.93 - - [22/Aug/2023 21:42:05] \"GET /static/wordlib/小_草书_虞世南_146879.gif HTTP/1.1\" 200 -\n",
      "198.18.10.93 - - [22/Aug/2023 21:42:05] \"GET /static/wordlib/小_草书_敬世江_146859.gif HTTP/1.1\" 200 -\n",
      "198.18.10.93 - - [22/Aug/2023 21:42:05] \"GET /static/wordlib/小_草书_王羲之_146869.gif HTTP/1.1\" 200 -\n",
      "198.18.10.93 - - [22/Aug/2023 21:42:05] \"GET /static/wordlib/小_草书_王羲之_146872.gif HTTP/1.1\" 200 -\n",
      "198.18.10.93 - - [22/Aug/2023 21:42:05] \"GET /static/wordlib/小_隶书_方朔_83918.gif HTTP/1.1\" 200 -\n",
      "198.18.10.93 - - [22/Aug/2023 21:42:05] \"GET /static/wordlib/小_草书_陆游_146863.gif HTTP/1.1\" 200 -\n",
      "198.18.10.93 - - [22/Aug/2023 21:42:05] \"GET /static/wordlib/小_行书_王献之_23900.gif HTTP/1.1\" 200 -\n",
      "198.18.10.93 - - [22/Aug/2023 21:42:05] \"GET /static/wordlib/小_行书_张即之_23901.gif HTTP/1.1\" 200 -\n",
      "198.18.10.93 - - [22/Aug/2023 21:42:05] \"GET /static/wordlib/小_草书_王衍_146874.gif HTTP/1.1\" 200 -\n",
      "198.18.10.93 - - [22/Aug/2023 21:42:05] \"GET /static/wordlib/小_草书_宋克_146865.gif HTTP/1.1\" 200 -\n",
      "198.18.10.93 - - [22/Aug/2023 21:42:05] \"GET /static/wordlib/小_行书_苏轼_23889.gif HTTP/1.1\" 200 -\n",
      "198.18.10.93 - - [22/Aug/2023 21:42:05] \"GET /static/wordlib/小_草书_毛泽东_146864.gif HTTP/1.1\" 200 -\n",
      "198.18.10.93 - - [22/Aug/2023 21:42:05] \"GET /static/wordlib/小_行书_敬世江_23885.gif HTTP/1.1\" 200 -\n",
      "198.18.10.93 - - [22/Aug/2023 21:42:05] \"GET /static/wordlib/小_行书_王慈_23891.gif HTTP/1.1\" 200 -\n",
      "198.18.10.93 - - [22/Aug/2023 21:42:05] \"GET /static/wordlib/小_行书_王羲之_23895.gif HTTP/1.1\" 200 -\n",
      "198.18.10.93 - - [22/Aug/2023 21:42:05] \"GET /static/wordlib/小_草书_李世民_146861.gif HTTP/1.1\" 200 -\n",
      "198.18.10.93 - - [22/Aug/2023 21:42:05] \"GET /static/wordlib/小_行书_王羲之_23896.gif HTTP/1.1\" 200 -\n",
      "198.18.10.93 - - [22/Aug/2023 21:42:05] \"GET /static/wordlib/小_行书_王羲之_23899.gif HTTP/1.1\" 200 -\n",
      "198.18.10.93 - - [22/Aug/2023 21:42:05] \"GET /static/wordlib/小_行书_归庄_23884.gif HTTP/1.1\" 200 -\n",
      "198.18.10.93 - - [22/Aug/2023 21:42:05] \"GET /static/wordlib/小_行书_王诜_23893.gif HTTP/1.1\" 200 -\n",
      "198.18.10.93 - - [22/Aug/2023 21:42:05] \"GET /static/wordlib/小_隶书_马王堆帛书_83921.gif HTTP/1.1\" 200 -\n",
      "198.18.10.93 - - [22/Aug/2023 21:42:05] \"GET /static/wordlib/小_草书_王羲之_146871.gif HTTP/1.1\" 200 -\n",
      "198.18.10.93 - - [22/Aug/2023 21:42:05] \"GET /static/wordlib/小_行书_米芾_23886.gif HTTP/1.1\" 200 -\n",
      "198.18.10.93 - - [22/Aug/2023 21:42:05] \"GET /static/wordlib/小_草书_徐伯清_146877.gif HTTP/1.1\" 200 -\n",
      "198.18.10.93 - - [22/Aug/2023 21:42:05] \"GET /static/wordlib/小_行书_王诜_23894.gif HTTP/1.1\" 200 -\n",
      "198.18.10.93 - - [22/Aug/2023 21:42:05] \"GET /static/wordlib/小_草书_王导_146868.gif HTTP/1.1\" 200 -\n",
      "198.18.10.93 - - [22/Aug/2023 21:42:05] \"GET /static/wordlib/小_草书_王慈_146867.gif HTTP/1.1\" 200 -\n",
      "198.18.10.93 - - [22/Aug/2023 21:42:10] \"GET / HTTP/1.1\" 200 -\n",
      "198.18.10.93 - - [22/Aug/2023 21:42:10] \"GET /jquery_1.12.0.min.js HTTP/1.1\" 404 -\n",
      "198.18.10.93 - - [22/Aug/2023 21:42:10] \"GET /style.css HTTP/1.1\" 404 -\n",
      "198.18.10.93 - - [22/Aug/2023 21:42:33] \"POST /show HTTP/1.1\" 200 -\n",
      "198.18.10.93 - - [22/Aug/2023 21:42:33] \"GET /static/uploads/行书_米芾_31200_177126_aug.gif HTTP/1.1\" 200 -\n"
     ]
    },
    {
     "name": "stdout",
     "output_type": "stream",
     "text": [
      "C:\\Users\\Administrator\\Desktop\\AI\\CalligraphyRecognizer\\data/uploads/行书_米芾_31200_177126_aug.gif\n",
      "\n",
      "图片预测为:\"綴\"，其Label为5099\n"
     ]
    },
    {
     "name": "stderr",
     "output_type": "stream",
     "text": [
      "198.18.10.93 - - [22/Aug/2023 21:42:39] \"GET / HTTP/1.1\" 200 -\n",
      "198.18.10.93 - - [22/Aug/2023 21:42:39] \"GET /jquery_1.12.0.min.js HTTP/1.1\" 404 -\n",
      "198.18.10.93 - - [22/Aug/2023 21:42:39] \"GET /style.css HTTP/1.1\" 404 -\n",
      "198.18.10.93 - - [22/Aug/2023 21:43:07] \"POST /show HTTP/1.1\" 200 -\n",
      "198.18.10.93 - - [22/Aug/2023 21:43:07] \"GET /static/uploads/草书_王铎_156506.gif HTTP/1.1\" 200 -\n"
     ]
    },
    {
     "name": "stdout",
     "output_type": "stream",
     "text": [
      "C:\\Users\\Administrator\\Desktop\\AI\\CalligraphyRecognizer\\data/uploads/草书_王铎_156506.gif\n",
      "\n",
      "图片预测为:\"春\"，其Label为2773\n"
     ]
    },
    {
     "name": "stderr",
     "output_type": "stream",
     "text": [
      "198.18.10.93 - - [22/Aug/2023 21:43:11] \"GET / HTTP/1.1\" 200 -\n",
      "198.18.10.93 - - [22/Aug/2023 21:43:11] \"GET /style.css HTTP/1.1\" 404 -\n",
      "198.18.10.93 - - [22/Aug/2023 21:43:11] \"GET /jquery_1.12.0.min.js HTTP/1.1\" 404 -\n",
      "198.18.10.93 - - [22/Aug/2023 21:43:27] \"POST /show HTTP/1.1\" 200 -\n",
      "198.18.10.93 - - [22/Aug/2023 21:43:27] \"GET /static/uploads/q2.jpg HTTP/1.1\" 200 -\n"
     ]
    },
    {
     "name": "stdout",
     "output_type": "stream",
     "text": [
      "C:\\Users\\Administrator\\Desktop\\AI\\CalligraphyRecognizer\\data/uploads/q2.jpg\n",
      "\n",
      "图片预测为:\"春\"，其Label为2773\n"
     ]
    },
    {
     "name": "stderr",
     "output_type": "stream",
     "text": [
      "198.18.10.93 - - [22/Aug/2023 21:43:31] \"GET / HTTP/1.1\" 200 -\n",
      "198.18.10.93 - - [22/Aug/2023 21:43:31] \"GET /style.css HTTP/1.1\" 404 -\n",
      "198.18.10.93 - - [22/Aug/2023 21:43:31] \"GET /jquery_1.12.0.min.js HTTP/1.1\" 404 -\n",
      "198.18.10.93 - - [22/Aug/2023 21:44:28] \"POST /show HTTP/1.1\" 200 -\n",
      "198.18.10.93 - - [22/Aug/2023 21:44:28] \"GET /static/uploads/残_篆书_吴昌硕_4338.gif HTTP/1.1\" 200 -\n"
     ]
    },
    {
     "name": "stdout",
     "output_type": "stream",
     "text": [
      "C:\\Users\\Administrator\\Desktop\\AI\\CalligraphyRecognizer\\data/uploads/残_篆书_吴昌硕_4338.gif\n",
      "\n",
      "图片预测为:\"残\"，其Label为3274\n"
     ]
    },
    {
     "name": "stderr",
     "output_type": "stream",
     "text": [
      "198.18.10.93 - - [22/Aug/2023 21:44:31] \"GET / HTTP/1.1\" 200 -\n",
      "198.18.10.93 - - [22/Aug/2023 21:44:31] \"GET /jquery_1.12.0.min.js HTTP/1.1\" 404 -\n",
      "198.18.10.93 - - [22/Aug/2023 21:44:31] \"GET /style.css HTTP/1.1\" 404 -\n",
      "198.18.10.93 - - [22/Aug/2023 21:45:05] \"POST /show HTTP/1.1\" 200 -\n",
      "198.18.10.93 - - [22/Aug/2023 21:45:05] \"GET /static/uploads/無_隶书_赵宽碑_90260.gif HTTP/1.1\" 200 -\n"
     ]
    },
    {
     "name": "stdout",
     "output_type": "stream",
     "text": [
      "C:\\Users\\Administrator\\Desktop\\AI\\CalligraphyRecognizer\\data/uploads/無_隶书_赵宽碑_90260.gif\n",
      "\n",
      "图片预测为:\"無\"，其Label为3891\n"
     ]
    }
   ],
   "source": [
    "# %load app.py\n",
    "\"\"\"\n",
    "@author: 曾小青<zengxq@csust.edu.cn>\n",
    "\"\"\"\n",
    "import os\n",
    "import random \n",
    "from flask import Flask, request, render_template\n",
    "import csv\n",
    "import pandas as pd\n",
    "import numpy as np\n",
    "import Recognizer as recog\n",
    "\n",
    "app = Flask(__name__,static_folder='data', static_url_path='/static')\n",
    "\n",
    "# 文件上传目录\n",
    "app.config['UPLOAD_FOLDER'] = 'data/uploads/'\n",
    "app.config['TEST_FOLDER'] = 'data/test/'\n",
    "# 支持的文件格式\n",
    "app.config['ALLOWED_EXTENSIONS'] = {'PNG','JPG','JPEG','GIF','png','jpg', 'jpeg', 'gif'}  # 集合类型\n",
    " \n",
    "# 判断文件名是否是我们支持的格式\n",
    "def allowed_file(filename):\n",
    "    return '.' in filename and \\\n",
    "           filename.rsplit('.', 1)[1] in app.config['ALLOWED_EXTENSIONS']\n",
    "\n",
    "df_word_pinyin=pd.read_csv('data/word_pinyin.csv',header=0,encoding='gbk')\n",
    "dict_word_pinyin=df_word_pinyin[[\"word\", \"pinyin\"]].set_index(\"word\").to_dict(orient='dict')[\"pinyin\"]\n",
    "\n",
    "\n",
    "@app.route(\"/\")\n",
    "def home():\n",
    "    return render_template(\"index.html\")\n",
    "\n",
    "\n",
    "@app.route(\"/input\")\n",
    "def new_input():\n",
    "    return render_template(\"input.html\")\n",
    "\n",
    "@app.route(\"/show\", methods=[\"POST\"])\n",
    "def show():\n",
    "    upload_file = request.files['image_name']\n",
    "    if upload_file and allowed_file(upload_file.filename):\n",
    "        filename = upload_file.filename\n",
    "        # 将文件保存到 static/uploads 目录，文件名同上传时使用的文件名\n",
    "        full_img_path=os.path.join(app.root_path, app.config['UPLOAD_FOLDER'], filename)\n",
    "        upload_file.save(full_img_path)\n",
    "        word,label=recog.predict_by_image_name(full_img_path,recog.model_0)\n",
    "        return render_template(\"result.html\", filename=filename,word=word,pinyin=dict_word_pinyin[word]) \n",
    "    else:\n",
    "        return '图像文件：'+filename+'上传失败，请检查文件否为(jpg,gif,png)类型...'\n",
    "\n",
    "\n",
    "\n",
    "@app.route(\"/word_list\", methods=[\"POST\"])\n",
    "def word_list():\n",
    "    word=request.form['word']\n",
    "    images_name_list=recog.get_images_path_by_word(word)\n",
    "    \n",
    "    return render_template(\"word_list.html\",word=word,pinyin=dict_word_pinyin[word],name_list=images_name_list,base_url='/static/wordlib/')\n",
    "\n",
    "\n",
    "if __name__ == \"__main__\":\n",
    "    app.secret_key = os.urandom(12)\n",
    "    app.run(host='0.0.0.0',port=5555, debug=False)\n"
   ]
  },
  {
   "cell_type": "code",
   "execution_count": null,
   "id": "cbda0417-0578-4dd2-9368-fbf0c6209728",
   "metadata": {},
   "outputs": [],
   "source": []
  }
 ],
 "metadata": {
  "kernelspec": {
   "display_name": "Python 3",
   "language": "python",
   "name": "python3"
  },
  "language_info": {
   "codemirror_mode": {
    "name": "ipython",
    "version": 3
   },
   "file_extension": ".py",
   "mimetype": "text/x-python",
   "name": "python",
   "nbconvert_exporter": "python",
   "pygments_lexer": "ipython3",
   "version": "3.7.0"
  }
 },
 "nbformat": 4,
 "nbformat_minor": 5
}
